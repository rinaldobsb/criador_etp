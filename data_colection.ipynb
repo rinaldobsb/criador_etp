{
 "cells": [
  {
   "cell_type": "markdown",
   "id": "be719102",
   "metadata": {},
   "source": [
    "# Notebook para a coleta de dados\n",
    "Aqui serão colocados os repositórios de código para a coleta de dados"
   ]
  },
  {
   "cell_type": "code",
   "execution_count": null,
   "id": "df1f073b",
   "metadata": {},
   "outputs": [],
   "source": [
    "# Coleta de dados dos sites institucionais - PREPARAÇÃO DO AMBIENTE\n",
    "from os.path import join\n",
    "from pathlib import Path\n",
    "\n",
    "lists_urls = {\n",
    "    \"Constituicao_Federal\": \"https://www.planalto.gov.br/ccivil_03/constituicao/constituicao.htm\",  # Constituição Federal\n",
    "    \"LeideLicitacoes\": \"https://www.planalto.gov.br/ccivil_03/_ato2019-2022/2021/lei/L14133.htm\",  # Lei de Licitações e Contratos\n",
    "    \"Decreto_12343\": \"https://www.planalto.gov.br/ccivil_03/_Ato2023-2026/2024/Decreto/D12343.htm\",  # # Decreto limites das contratações diretas\n",
    "    \"Decreto_Garantias_Trabalhistas\": \"https://www.planalto.gov.br/ccivil_03/_Ato2023-2026/2024/Decreto/D12174.htm\",  # Decreto garantias trabalhistas\n",
    "    \"Decreto_reserva_feminina\": \"https://www.planalto.gov.br/ccivil_03/_Ato2023-2026/2023/Decreto/D11430.htm\",  # Dreceto percentual para muleres\n",
    "    \"Decreto_consultas_publicas\": \"https://www.planalto.gov.br/ccivil_03/_ato2019-2022/2022/Decreto/D10929.htm\",  # Decreto procedimento para consultas públicas\n",
    "    \"Res_CNJ_468\": \"https://atos.cnj.jus.br/files/compilado2156592025032167dde0abdcdcf.pdf\",  # PDF Resolução CNJ 468\n",
    "    \"Guia_de_contratacoes\": \"https://atos.cnj.jus.br/files/compilado1921232025031867d9c7b35fb5b.pdf\",  # Guia de contratações do CNJ\n",
    "}\n",
    "\n",
    "atual_folder = Path(\".\")\n",
    "data_folder = join(atual_folder, \"dados\")\n",
    "leg_folder = join(data_folder, \"legis\")"
   ]
  },
  {
   "cell_type": "code",
   "execution_count": 8,
   "id": "d452526e",
   "metadata": {},
   "outputs": [
    {
     "name": "stderr",
     "output_type": "stream",
     "text": [
      "c:\\Users\\rinal\\Dev\\criador_etp\\.venv\\Lib\\site-packages\\tqdm\\auto.py:21: TqdmWarning: IProgress not found. Please update jupyter and ipywidgets. See https://ipywidgets.readthedocs.io/en/stable/user_install.html\n",
      "  from .autonotebook import tqdm as notebook_tqdm\n",
      "c:\\Users\\rinal\\Dev\\criador_etp\\.venv\\Lib\\site-packages\\torch\\utils\\data\\dataloader.py:665: UserWarning: 'pin_memory' argument is set as true but no accelerator is found, then device pinned memory won't be used.\n",
      "  warnings.warn(warn_msg)\n"
     ]
    }
   ],
   "source": [
    "# Obtenção dos dados da web e geração de arquivos em Markdown\n",
    "from docling.document_converter import DocumentConverter\n",
    "\n",
    "converter = DocumentConverter()\n",
    "list_docs_converteds = []\n",
    "headers = {\n",
    "    \"User-Agent\": \"Mozilla/5.0 (Windows NT 10.0; Win64; x64) AppleWebKit/537.36 (KHTML, like Gecko) Chrome/102.0.0.0 Safari/537.36\"\n",
    "}\n",
    "\n",
    "for nome, link in lists_urls.items():\n",
    "    with open(leg_folder + nome + \".md\", mode=\"+w\", encoding=\"utf-8\") as file:\n",
    "        file.write(\n",
    "            converter.convert(\n",
    "                source=link, headers=headers, raises_on_error=False\n",
    "            ).document.export_to_markdown()\n",
    "        )"
   ]
  },
  {
   "cell_type": "code",
   "execution_count": 9,
   "id": "e8b1f01a",
   "metadata": {},
   "outputs": [],
   "source": [
    "folder_ETPs = join(atual_folder, \"ETPs\")\n",
    "\n",
    "for etp in Path(folder_ETPs).iterdir():\n",
    "    etp.rename(\n",
    "        Path(\n",
    "            etp.stem.removeprefix(\"SEI_TRE-DF - \").removesuffix(\n",
    "                \" - Estudo Técnico Preliminar - ETP Completo\"\n",
    "            )\n",
    "            + \"_ETP.pdf\"\n",
    "        )\n",
    "    )"
   ]
  },
  {
   "cell_type": "code",
   "execution_count": 10,
   "id": "010d8b68",
   "metadata": {},
   "outputs": [],
   "source": [
    "## Conversão dos documentos ETP em Markdown\n",
    "from docling.document_converter import DocumentConverter\n",
    "\n",
    "converter = DocumentConverter()\n",
    "\n",
    "\n",
    "folder_ETPs = join(atual_folder, \"ETPs\")\n",
    "transformed_ETPs = \"ETPs_transformeds\"\n",
    "for etp in Path(folder_ETPs).iterdir():\n",
    "    with open(f\"{transformed_ETPs}/{etp.stem}.md\", mode=\"+w\", encoding=\"utf-8\") as file:\n",
    "        file.write(\n",
    "            converter.convert(source=etp.absolute()).document.export_to_markdown()\n",
    "        )"
   ]
  },
  {
   "cell_type": "code",
   "execution_count": null,
   "id": "f2225b59",
   "metadata": {},
   "outputs": [],
   "source": [
    "# Para instalar o modelo NLP: uv pip install pt_core_news_lg@https://github.com/explosion/spacy-models/releases/download/pt_core_news_lg-3.8.0/pt_core_news_lg-3.8.0-py3-none-any.whl # no problem\n",
    "\n",
    "from os.path import join\n",
    "import spacy\n",
    "from typing import List, Tuple\n",
    "\n",
    "nlp = spacy.load(\"pt_core_news_lg\")\n",
    "transformed_ETPs = \"ETPs_transformeds\"\n",
    "transformed_ETPs = join(atual_folder, transformed_ETPs)\n",
    "\n",
    "\n",
    "def extract_names(text: str) -> List[Tuple]:\n",
    "    names = nlp(text=text).ents\n",
    "    entidades = [\n",
    "        (entity.text, entity.label_) for entity in names if entity.label_ == \"PER\"\n",
    "    ]\n",
    "    return entidades\n",
    "\n",
    "\n",
    "def anonimize_text(text: str, names: List[Tuple[str, str]]):\n",
    "    for name in names:\n",
    "        permition = input(f\"A entidade <<{name[0]}>> é um nome? S /N: \")\n",
    "        if permition == \"S\":\n",
    "            text = text.replace(name[0], \"Fulano Ciclano\")\n",
    "        else:\n",
    "            continue\n",
    "    return text\n",
    "\n",
    "\n",
    "for etp in Path(transformed_ETPs).iterdir():\n",
    "    texto = \"\"\n",
    "    with etp.open(mode=\"r\", encoding=\"utf-8\") as file:\n",
    "        texto = file.read()\n",
    "    with etp.open(mode=\"w\", encoding=\"utf-8\") as file:\n",
    "        texto_anonimizado = anonimize_text(text=texto, names=extract_names(text=texto))\n",
    "        file.write(texto_anonimizado)"
   ]
  },
  {
   "cell_type": "markdown",
   "id": "a7599cc0",
   "metadata": {},
   "source": [
    "## mODELAGEM DOS AGENTES DE IA"
   ]
  },
  {
   "cell_type": "code",
   "execution_count": null,
   "id": "42c880b1",
   "metadata": {},
   "outputs": [],
   "source": [
    "# coleção de prompts\n",
    "info_collector_agent = \"\"\"\n",
    "\n",
    "\"\"\"\n",
    "writer_agent = \"\"\"\n",
    "\n",
    "\"\"\"\n",
    "revisor_agent = \"\"\"\n",
    "\n",
    "\"\"\""
   ]
  },
  {
   "cell_type": "code",
   "execution_count": null,
   "id": "f23e6dae",
   "metadata": {},
   "outputs": [],
   "source": [
    "# Framework de elaboração"
   ]
  }
 ],
 "metadata": {
  "kernelspec": {
   "display_name": ".venv",
   "language": "python",
   "name": "python3"
  },
  "language_info": {
   "codemirror_mode": {
    "name": "ipython",
    "version": 3
   },
   "file_extension": ".py",
   "mimetype": "text/x-python",
   "name": "python",
   "nbconvert_exporter": "python",
   "pygments_lexer": "ipython3",
   "version": "3.12.7"
  }
 },
 "nbformat": 4,
 "nbformat_minor": 5
}
