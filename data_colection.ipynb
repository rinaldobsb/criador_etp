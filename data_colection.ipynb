{
 "cells": [
  {
   "cell_type": "markdown",
   "id": "be719102",
   "metadata": {},
   "source": [
    "# Notebook para a coleta de dados\n",
    "Aqui serão colocados os repositórios de código para a coleta de dados"
   ]
  },
  {
   "cell_type": "code",
   "execution_count": null,
   "id": "df1f073b",
   "metadata": {},
   "outputs": [
    {
     "ename": "",
     "evalue": "",
     "output_type": "error",
     "traceback": [
      "\u001b[1;31mA execução de células com '.venv (Python 3.12.7)' requer o pacote ipykernel.\n",
      "\u001b[1;31mInstale 'ipykernel' no ambiente Python. \n",
      "\u001b[1;31mComando: 'c:/Users/rinal/Dev/criador_etp/.venv/Scripts/python.exe -m pip install ipykernel -U --force-reinstall'"
     ]
    }
   ],
   "source": [
    "# Coleta de dados dos sites institucionais - PREPARAÇÃO DO AMBIENTE\n",
    "from os.path import dirname, join\n",
    "\n",
    "lists_urls = {\n",
    "    \"Constituicao_Federal\": \"https://www.planalto.gov.br/ccivil_03/constituicao/constituicao.htm\", # Constituição Federal\n",
    "    \"LeideLicitacoes\": \"https://www.planalto.gov.br/ccivil_03/_ato2019-2022/2021/lei/L14133.htm\", # Lei de Licitações e Contratos\n",
    "    \"Decreto_12343\": \"https://www.planalto.gov.br/ccivil_03/_Ato2023-2026/2024/Decreto/D12343.htm\", # # Decreto limites das contratações diretas\n",
    "    \"Decreto_Garantias_Trabalhistas\": \"https://www.planalto.gov.br/ccivil_03/_Ato2023-2026/2024/Decreto/D12174.htm\",# Decreto garantias trabalhistas\n",
    "    \"Decreto_reserva_feminina\": \"https://www.planalto.gov.br/ccivil_03/_Ato2023-2026/2023/Decreto/D11430.htm\", # Dreceto percentual para muleres\n",
    "    \"Decreto_consultas_publicas\": \"https://www.planalto.gov.br/ccivil_03/_ato2019-2022/2022/Decreto/D10929.htm\", # Decreto procedimento para consultas públicas\n",
    "    \"Res_CNJ_468\": \"https://atos.cnj.jus.br/files/compilado2156592025032167dde0abdcdcf.pdf\", # PDF Resolução CNJ 468\n",
    "    \"Guia_de_contratacoes\": \"https://atos.cnj.jus.br/files/compilado1921232025031867d9c7b35fb5b.pdf\", # Guia de contratações do CNJ\n",
    "\n",
    "}\n",
    "\n",
    "atual_folder = dirname()\n",
    "data_folder = join(atual_folder, \"dados\")\n",
    "leg_folder = join(data_folder, \"legis\")"
   ]
  },
  {
   "cell_type": "code",
   "execution_count": null,
   "id": "d452526e",
   "metadata": {},
   "outputs": [],
   "source": [
    "# Obtenção dos dados da web e geração de arquivos em Markdown\n",
    "from docling.document_converter import DocumentConverter\n",
    "\n",
    "converter = DocumentConverter()\n",
    "list_docs_converteds = []\n",
    "\n",
    "for nome, link in lists_urls:\n",
    "    with open(leg_folder+nome+\".md\", mode=\"+w\") as file:\n",
    "        file.write(converter.convert(data_folder+link).document.export_to_markdown())"
   ]
  },
  {
   "cell_type": "markdown",
   "id": "95c93f98",
   "metadata": {},
   "source": [
    "## Conversão docs do PNCP"
   ]
  },
  {
   "cell_type": "code",
   "execution_count": null,
   "id": "9138ee03",
   "metadata": {},
   "outputs": [],
   "source": [
    "# Importações"
   ]
  },
  {
   "cell_type": "markdown",
   "id": "ae93e8e5",
   "metadata": {},
   "source": [
    "## Conversão dos docs PNCP"
   ]
  },
  {
   "cell_type": "code",
   "execution_count": null,
   "id": "fa5ed4d7",
   "metadata": {},
   "outputs": [],
   "source": [
    "# Importações\n"
   ]
  }
 ],
 "metadata": {
  "kernelspec": {
   "display_name": ".venv",
   "language": "python",
   "name": "python3"
  },
  "language_info": {
   "name": "python",
   "version": "3.12.7"
  }
 },
 "nbformat": 4,
 "nbformat_minor": 5
}
